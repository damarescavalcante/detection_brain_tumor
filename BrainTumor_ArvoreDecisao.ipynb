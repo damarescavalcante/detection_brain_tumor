{
  "nbformat": 4,
  "nbformat_minor": 0,
  "metadata": {
    "colab": {
      "name": "BrainTumor-ArvoreDecisao.ipynb",
      "provenance": [],
      "collapsed_sections": [],
      "authorship_tag": "ABX9TyPRKbHsRwngKUAoYzr2OXVc",
      "include_colab_link": true
    },
    "kernelspec": {
      "name": "python3",
      "display_name": "Python 3"
    }
  },
  "cells": [
    {
      "cell_type": "markdown",
      "metadata": {
        "id": "view-in-github",
        "colab_type": "text"
      },
      "source": [
        "<a href=\"https://colab.research.google.com/github/damarescavalcante/detection_brain_tumor/blob/master/BrainTumor_ArvoreDecisao.ipynb\" target=\"_parent\"><img src=\"https://colab.research.google.com/assets/colab-badge.svg\" alt=\"Open In Colab\"/></a>"
      ]
    },
    {
      "cell_type": "markdown",
      "metadata": {
        "id": "hMi9OZDh6q-k",
        "colab_type": "text"
      },
      "source": [
        "#**Detection of Brain Tumor**\n",
        "\n"
      ]
    },
    {
      "cell_type": "markdown",
      "metadata": {
        "id": "erqVHcmCOOgW",
        "colab_type": "text"
      },
      "source": [
        "\n",
        "*   This dataset aims to analyze and brain image and check whether or not there is a tumor.\n",
        "*   [Dataset](https://www.kaggle.com/jakeshbohaju/brain-tumor).\n",
        "*   O arquivo é dividido em três seções: \n",
        "\n",
        "    1.   Preparação do Ambiente e dos Dados;\n",
        "    2.   Árvore de Decisão;\n",
        "    3.   Random Forest; e\n",
        "    4.   Avaliação de ambos os modelos.\n",
        "\n",
        "\n",
        "\n",
        "\n",
        "\n"
      ]
    },
    {
      "cell_type": "markdown",
      "metadata": {
        "id": "QUcRpycPxWEu",
        "colab_type": "text"
      },
      "source": [
        "##**1. Preparação do Ambiente e dos Dados**"
      ]
    },
    {
      "cell_type": "markdown",
      "metadata": {
        "id": "Km2M9am5NTyB",
        "colab_type": "text"
      },
      "source": [
        "Montando o ambiente"
      ]
    },
    {
      "cell_type": "code",
      "metadata": {
        "id": "JRgFhSsTNO0a",
        "colab_type": "code",
        "colab": {
          "base_uri": "https://localhost:8080/",
          "height": 34
        },
        "outputId": "2a8db753-02d8-4a4c-eb2f-387b92125d65"
      },
      "source": [
        "from google.colab import drive\n",
        "drive.mount('/content/drive/')"
      ],
      "execution_count": 3,
      "outputs": [
        {
          "output_type": "stream",
          "text": [
            "Mounted at /content/drive/\n"
          ],
          "name": "stdout"
        }
      ]
    },
    {
      "cell_type": "markdown",
      "metadata": {
        "id": "TvgXVUukNV4t",
        "colab_type": "text"
      },
      "source": [
        "####**1.1 Importando bibliotecas necessárias**\n"
      ]
    },
    {
      "cell_type": "code",
      "metadata": {
        "id": "w80dppwvNm6S",
        "colab_type": "code",
        "colab": {}
      },
      "source": [
        "# Importando bibliotecas\n",
        "import numpy as np\n",
        "import pandas as pd"
      ],
      "execution_count": 4,
      "outputs": []
    },
    {
      "cell_type": "markdown",
      "metadata": {
        "id": "mFqrpY3MNpJN",
        "colab_type": "text"
      },
      "source": [
        "###**1.2 Carregamento dos dados na memória utilizando a biblioteca Pandas**"
      ]
    },
    {
      "cell_type": "code",
      "metadata": {
        "id": "jZhkZffNNvRn",
        "colab_type": "code",
        "colab": {}
      },
      "source": [
        "# lendo csv e armazenando em um dataframe\n",
        "dados = pd.read_csv('/content/drive/My Drive/Colab Notebooks/Datasets/BrainTumor/BrainTumor.csv')"
      ],
      "execution_count": 5,
      "outputs": []
    },
    {
      "cell_type": "code",
      "metadata": {
        "id": "RTpgRW31N9SR",
        "colab_type": "code",
        "colab": {
          "base_uri": "https://localhost:8080/",
          "height": 326
        },
        "outputId": "924c4201-2e08-4a46-97af-a1fdb71d306d"
      },
      "source": [
        "# verificando o dataframe\n",
        "dados.head()"
      ],
      "execution_count": 6,
      "outputs": [
        {
          "output_type": "execute_result",
          "data": {
            "text/html": [
              "<div>\n",
              "<style scoped>\n",
              "    .dataframe tbody tr th:only-of-type {\n",
              "        vertical-align: middle;\n",
              "    }\n",
              "\n",
              "    .dataframe tbody tr th {\n",
              "        vertical-align: top;\n",
              "    }\n",
              "\n",
              "    .dataframe thead th {\n",
              "        text-align: right;\n",
              "    }\n",
              "</style>\n",
              "<table border=\"1\" class=\"dataframe\">\n",
              "  <thead>\n",
              "    <tr style=\"text-align: right;\">\n",
              "      <th></th>\n",
              "      <th>Image</th>\n",
              "      <th>Class</th>\n",
              "      <th>Mean</th>\n",
              "      <th>Variance</th>\n",
              "      <th>Standard Deviation</th>\n",
              "      <th>Entropy</th>\n",
              "      <th>Skewness</th>\n",
              "      <th>Kurtosis</th>\n",
              "      <th>Contrast</th>\n",
              "      <th>Energy</th>\n",
              "      <th>ASM</th>\n",
              "      <th>Homogeneity</th>\n",
              "      <th>Dissimilarity</th>\n",
              "      <th>Correlation</th>\n",
              "      <th>Coarseness</th>\n",
              "    </tr>\n",
              "  </thead>\n",
              "  <tbody>\n",
              "    <tr>\n",
              "      <th>0</th>\n",
              "      <td>Image1</td>\n",
              "      <td>0</td>\n",
              "      <td>6.535339</td>\n",
              "      <td>619.587845</td>\n",
              "      <td>24.891522</td>\n",
              "      <td>0.109059</td>\n",
              "      <td>4.276477</td>\n",
              "      <td>18.900575</td>\n",
              "      <td>98.613971</td>\n",
              "      <td>0.293314</td>\n",
              "      <td>0.086033</td>\n",
              "      <td>0.530941</td>\n",
              "      <td>4.473346</td>\n",
              "      <td>0.981939</td>\n",
              "      <td>7.458341e-155</td>\n",
              "    </tr>\n",
              "    <tr>\n",
              "      <th>1</th>\n",
              "      <td>Image2</td>\n",
              "      <td>0</td>\n",
              "      <td>8.749969</td>\n",
              "      <td>805.957634</td>\n",
              "      <td>28.389393</td>\n",
              "      <td>0.266538</td>\n",
              "      <td>3.718116</td>\n",
              "      <td>14.464618</td>\n",
              "      <td>63.858816</td>\n",
              "      <td>0.475051</td>\n",
              "      <td>0.225674</td>\n",
              "      <td>0.651352</td>\n",
              "      <td>3.220072</td>\n",
              "      <td>0.988834</td>\n",
              "      <td>7.458341e-155</td>\n",
              "    </tr>\n",
              "    <tr>\n",
              "      <th>2</th>\n",
              "      <td>Image3</td>\n",
              "      <td>1</td>\n",
              "      <td>7.341095</td>\n",
              "      <td>1143.808219</td>\n",
              "      <td>33.820234</td>\n",
              "      <td>0.001467</td>\n",
              "      <td>5.061750</td>\n",
              "      <td>26.479563</td>\n",
              "      <td>81.867206</td>\n",
              "      <td>0.031917</td>\n",
              "      <td>0.001019</td>\n",
              "      <td>0.268275</td>\n",
              "      <td>5.981800</td>\n",
              "      <td>0.978014</td>\n",
              "      <td>7.458341e-155</td>\n",
              "    </tr>\n",
              "    <tr>\n",
              "      <th>3</th>\n",
              "      <td>Image4</td>\n",
              "      <td>1</td>\n",
              "      <td>5.958145</td>\n",
              "      <td>959.711985</td>\n",
              "      <td>30.979219</td>\n",
              "      <td>0.001477</td>\n",
              "      <td>5.677977</td>\n",
              "      <td>33.428845</td>\n",
              "      <td>151.229741</td>\n",
              "      <td>0.032024</td>\n",
              "      <td>0.001026</td>\n",
              "      <td>0.243851</td>\n",
              "      <td>7.700919</td>\n",
              "      <td>0.964189</td>\n",
              "      <td>7.458341e-155</td>\n",
              "    </tr>\n",
              "    <tr>\n",
              "      <th>4</th>\n",
              "      <td>Image5</td>\n",
              "      <td>0</td>\n",
              "      <td>7.315231</td>\n",
              "      <td>729.540579</td>\n",
              "      <td>27.010009</td>\n",
              "      <td>0.146761</td>\n",
              "      <td>4.283221</td>\n",
              "      <td>19.079108</td>\n",
              "      <td>174.988756</td>\n",
              "      <td>0.343849</td>\n",
              "      <td>0.118232</td>\n",
              "      <td>0.501140</td>\n",
              "      <td>6.834689</td>\n",
              "      <td>0.972789</td>\n",
              "      <td>7.458341e-155</td>\n",
              "    </tr>\n",
              "  </tbody>\n",
              "</table>\n",
              "</div>"
            ],
            "text/plain": [
              "    Image  Class      Mean  ...  Dissimilarity  Correlation     Coarseness\n",
              "0  Image1      0  6.535339  ...       4.473346     0.981939  7.458341e-155\n",
              "1  Image2      0  8.749969  ...       3.220072     0.988834  7.458341e-155\n",
              "2  Image3      1  7.341095  ...       5.981800     0.978014  7.458341e-155\n",
              "3  Image4      1  5.958145  ...       7.700919     0.964189  7.458341e-155\n",
              "4  Image5      0  7.315231  ...       6.834689     0.972789  7.458341e-155\n",
              "\n",
              "[5 rows x 15 columns]"
            ]
          },
          "metadata": {
            "tags": []
          },
          "execution_count": 6
        }
      ]
    },
    {
      "cell_type": "code",
      "metadata": {
        "id": "p0tYwNh3OVl9",
        "colab_type": "code",
        "colab": {
          "base_uri": "https://localhost:8080/",
          "height": 85
        },
        "outputId": "1810e5a4-f446-443c-a3dc-48cede3da230"
      },
      "source": [
        "#verificando colunas dos dados | mostra todas as columns\n",
        "dados.columns"
      ],
      "execution_count": 7,
      "outputs": [
        {
          "output_type": "execute_result",
          "data": {
            "text/plain": [
              "Index(['Image', 'Class', 'Mean', 'Variance', 'Standard Deviation', 'Entropy',\n",
              "       'Skewness', 'Kurtosis', 'Contrast', 'Energy', 'ASM', 'Homogeneity',\n",
              "       'Dissimilarity', 'Correlation', 'Coarseness'],\n",
              "      dtype='object')"
            ]
          },
          "metadata": {
            "tags": []
          },
          "execution_count": 7
        }
      ]
    },
    {
      "cell_type": "markdown",
      "metadata": {
        "id": "WFXFqVP-OZtO",
        "colab_type": "text"
      },
      "source": [
        "###**1.3 Limpeza e organização dos dados**"
      ]
    },
    {
      "cell_type": "code",
      "metadata": {
        "id": "yUJpN1qGOcaF",
        "colab_type": "code",
        "colab": {
          "base_uri": "https://localhost:8080/",
          "height": 326
        },
        "outputId": "a8dfd034-6303-41df-b275-dd4b757cbb9f"
      },
      "source": [
        "#verificar se existem valores NAN, ? ou dados faltantes\n",
        "dados = dados.dropna()\n",
        "dados.head()"
      ],
      "execution_count": 8,
      "outputs": [
        {
          "output_type": "execute_result",
          "data": {
            "text/html": [
              "<div>\n",
              "<style scoped>\n",
              "    .dataframe tbody tr th:only-of-type {\n",
              "        vertical-align: middle;\n",
              "    }\n",
              "\n",
              "    .dataframe tbody tr th {\n",
              "        vertical-align: top;\n",
              "    }\n",
              "\n",
              "    .dataframe thead th {\n",
              "        text-align: right;\n",
              "    }\n",
              "</style>\n",
              "<table border=\"1\" class=\"dataframe\">\n",
              "  <thead>\n",
              "    <tr style=\"text-align: right;\">\n",
              "      <th></th>\n",
              "      <th>Image</th>\n",
              "      <th>Class</th>\n",
              "      <th>Mean</th>\n",
              "      <th>Variance</th>\n",
              "      <th>Standard Deviation</th>\n",
              "      <th>Entropy</th>\n",
              "      <th>Skewness</th>\n",
              "      <th>Kurtosis</th>\n",
              "      <th>Contrast</th>\n",
              "      <th>Energy</th>\n",
              "      <th>ASM</th>\n",
              "      <th>Homogeneity</th>\n",
              "      <th>Dissimilarity</th>\n",
              "      <th>Correlation</th>\n",
              "      <th>Coarseness</th>\n",
              "    </tr>\n",
              "  </thead>\n",
              "  <tbody>\n",
              "    <tr>\n",
              "      <th>0</th>\n",
              "      <td>Image1</td>\n",
              "      <td>0</td>\n",
              "      <td>6.535339</td>\n",
              "      <td>619.587845</td>\n",
              "      <td>24.891522</td>\n",
              "      <td>0.109059</td>\n",
              "      <td>4.276477</td>\n",
              "      <td>18.900575</td>\n",
              "      <td>98.613971</td>\n",
              "      <td>0.293314</td>\n",
              "      <td>0.086033</td>\n",
              "      <td>0.530941</td>\n",
              "      <td>4.473346</td>\n",
              "      <td>0.981939</td>\n",
              "      <td>7.458341e-155</td>\n",
              "    </tr>\n",
              "    <tr>\n",
              "      <th>1</th>\n",
              "      <td>Image2</td>\n",
              "      <td>0</td>\n",
              "      <td>8.749969</td>\n",
              "      <td>805.957634</td>\n",
              "      <td>28.389393</td>\n",
              "      <td>0.266538</td>\n",
              "      <td>3.718116</td>\n",
              "      <td>14.464618</td>\n",
              "      <td>63.858816</td>\n",
              "      <td>0.475051</td>\n",
              "      <td>0.225674</td>\n",
              "      <td>0.651352</td>\n",
              "      <td>3.220072</td>\n",
              "      <td>0.988834</td>\n",
              "      <td>7.458341e-155</td>\n",
              "    </tr>\n",
              "    <tr>\n",
              "      <th>2</th>\n",
              "      <td>Image3</td>\n",
              "      <td>1</td>\n",
              "      <td>7.341095</td>\n",
              "      <td>1143.808219</td>\n",
              "      <td>33.820234</td>\n",
              "      <td>0.001467</td>\n",
              "      <td>5.061750</td>\n",
              "      <td>26.479563</td>\n",
              "      <td>81.867206</td>\n",
              "      <td>0.031917</td>\n",
              "      <td>0.001019</td>\n",
              "      <td>0.268275</td>\n",
              "      <td>5.981800</td>\n",
              "      <td>0.978014</td>\n",
              "      <td>7.458341e-155</td>\n",
              "    </tr>\n",
              "    <tr>\n",
              "      <th>3</th>\n",
              "      <td>Image4</td>\n",
              "      <td>1</td>\n",
              "      <td>5.958145</td>\n",
              "      <td>959.711985</td>\n",
              "      <td>30.979219</td>\n",
              "      <td>0.001477</td>\n",
              "      <td>5.677977</td>\n",
              "      <td>33.428845</td>\n",
              "      <td>151.229741</td>\n",
              "      <td>0.032024</td>\n",
              "      <td>0.001026</td>\n",
              "      <td>0.243851</td>\n",
              "      <td>7.700919</td>\n",
              "      <td>0.964189</td>\n",
              "      <td>7.458341e-155</td>\n",
              "    </tr>\n",
              "    <tr>\n",
              "      <th>4</th>\n",
              "      <td>Image5</td>\n",
              "      <td>0</td>\n",
              "      <td>7.315231</td>\n",
              "      <td>729.540579</td>\n",
              "      <td>27.010009</td>\n",
              "      <td>0.146761</td>\n",
              "      <td>4.283221</td>\n",
              "      <td>19.079108</td>\n",
              "      <td>174.988756</td>\n",
              "      <td>0.343849</td>\n",
              "      <td>0.118232</td>\n",
              "      <td>0.501140</td>\n",
              "      <td>6.834689</td>\n",
              "      <td>0.972789</td>\n",
              "      <td>7.458341e-155</td>\n",
              "    </tr>\n",
              "  </tbody>\n",
              "</table>\n",
              "</div>"
            ],
            "text/plain": [
              "    Image  Class      Mean  ...  Dissimilarity  Correlation     Coarseness\n",
              "0  Image1      0  6.535339  ...       4.473346     0.981939  7.458341e-155\n",
              "1  Image2      0  8.749969  ...       3.220072     0.988834  7.458341e-155\n",
              "2  Image3      1  7.341095  ...       5.981800     0.978014  7.458341e-155\n",
              "3  Image4      1  5.958145  ...       7.700919     0.964189  7.458341e-155\n",
              "4  Image5      0  7.315231  ...       6.834689     0.972789  7.458341e-155\n",
              "\n",
              "[5 rows x 15 columns]"
            ]
          },
          "metadata": {
            "tags": []
          },
          "execution_count": 8
        }
      ]
    },
    {
      "cell_type": "code",
      "metadata": {
        "id": "b8f7QkByOm55",
        "colab_type": "code",
        "colab": {
          "base_uri": "https://localhost:8080/",
          "height": 326
        },
        "outputId": "b3017ab5-b25b-4ae7-bacc-e1dccc06931d"
      },
      "source": [
        "#excluindo colunas que não serão utilizadas\n",
        "dados = dados.drop(columns=['Image'])\n",
        "dados.head()"
      ],
      "execution_count": 9,
      "outputs": [
        {
          "output_type": "execute_result",
          "data": {
            "text/html": [
              "<div>\n",
              "<style scoped>\n",
              "    .dataframe tbody tr th:only-of-type {\n",
              "        vertical-align: middle;\n",
              "    }\n",
              "\n",
              "    .dataframe tbody tr th {\n",
              "        vertical-align: top;\n",
              "    }\n",
              "\n",
              "    .dataframe thead th {\n",
              "        text-align: right;\n",
              "    }\n",
              "</style>\n",
              "<table border=\"1\" class=\"dataframe\">\n",
              "  <thead>\n",
              "    <tr style=\"text-align: right;\">\n",
              "      <th></th>\n",
              "      <th>Class</th>\n",
              "      <th>Mean</th>\n",
              "      <th>Variance</th>\n",
              "      <th>Standard Deviation</th>\n",
              "      <th>Entropy</th>\n",
              "      <th>Skewness</th>\n",
              "      <th>Kurtosis</th>\n",
              "      <th>Contrast</th>\n",
              "      <th>Energy</th>\n",
              "      <th>ASM</th>\n",
              "      <th>Homogeneity</th>\n",
              "      <th>Dissimilarity</th>\n",
              "      <th>Correlation</th>\n",
              "      <th>Coarseness</th>\n",
              "    </tr>\n",
              "  </thead>\n",
              "  <tbody>\n",
              "    <tr>\n",
              "      <th>0</th>\n",
              "      <td>0</td>\n",
              "      <td>6.535339</td>\n",
              "      <td>619.587845</td>\n",
              "      <td>24.891522</td>\n",
              "      <td>0.109059</td>\n",
              "      <td>4.276477</td>\n",
              "      <td>18.900575</td>\n",
              "      <td>98.613971</td>\n",
              "      <td>0.293314</td>\n",
              "      <td>0.086033</td>\n",
              "      <td>0.530941</td>\n",
              "      <td>4.473346</td>\n",
              "      <td>0.981939</td>\n",
              "      <td>7.458341e-155</td>\n",
              "    </tr>\n",
              "    <tr>\n",
              "      <th>1</th>\n",
              "      <td>0</td>\n",
              "      <td>8.749969</td>\n",
              "      <td>805.957634</td>\n",
              "      <td>28.389393</td>\n",
              "      <td>0.266538</td>\n",
              "      <td>3.718116</td>\n",
              "      <td>14.464618</td>\n",
              "      <td>63.858816</td>\n",
              "      <td>0.475051</td>\n",
              "      <td>0.225674</td>\n",
              "      <td>0.651352</td>\n",
              "      <td>3.220072</td>\n",
              "      <td>0.988834</td>\n",
              "      <td>7.458341e-155</td>\n",
              "    </tr>\n",
              "    <tr>\n",
              "      <th>2</th>\n",
              "      <td>1</td>\n",
              "      <td>7.341095</td>\n",
              "      <td>1143.808219</td>\n",
              "      <td>33.820234</td>\n",
              "      <td>0.001467</td>\n",
              "      <td>5.061750</td>\n",
              "      <td>26.479563</td>\n",
              "      <td>81.867206</td>\n",
              "      <td>0.031917</td>\n",
              "      <td>0.001019</td>\n",
              "      <td>0.268275</td>\n",
              "      <td>5.981800</td>\n",
              "      <td>0.978014</td>\n",
              "      <td>7.458341e-155</td>\n",
              "    </tr>\n",
              "    <tr>\n",
              "      <th>3</th>\n",
              "      <td>1</td>\n",
              "      <td>5.958145</td>\n",
              "      <td>959.711985</td>\n",
              "      <td>30.979219</td>\n",
              "      <td>0.001477</td>\n",
              "      <td>5.677977</td>\n",
              "      <td>33.428845</td>\n",
              "      <td>151.229741</td>\n",
              "      <td>0.032024</td>\n",
              "      <td>0.001026</td>\n",
              "      <td>0.243851</td>\n",
              "      <td>7.700919</td>\n",
              "      <td>0.964189</td>\n",
              "      <td>7.458341e-155</td>\n",
              "    </tr>\n",
              "    <tr>\n",
              "      <th>4</th>\n",
              "      <td>0</td>\n",
              "      <td>7.315231</td>\n",
              "      <td>729.540579</td>\n",
              "      <td>27.010009</td>\n",
              "      <td>0.146761</td>\n",
              "      <td>4.283221</td>\n",
              "      <td>19.079108</td>\n",
              "      <td>174.988756</td>\n",
              "      <td>0.343849</td>\n",
              "      <td>0.118232</td>\n",
              "      <td>0.501140</td>\n",
              "      <td>6.834689</td>\n",
              "      <td>0.972789</td>\n",
              "      <td>7.458341e-155</td>\n",
              "    </tr>\n",
              "  </tbody>\n",
              "</table>\n",
              "</div>"
            ],
            "text/plain": [
              "   Class      Mean     Variance  ...  Dissimilarity  Correlation     Coarseness\n",
              "0      0  6.535339   619.587845  ...       4.473346     0.981939  7.458341e-155\n",
              "1      0  8.749969   805.957634  ...       3.220072     0.988834  7.458341e-155\n",
              "2      1  7.341095  1143.808219  ...       5.981800     0.978014  7.458341e-155\n",
              "3      1  5.958145   959.711985  ...       7.700919     0.964189  7.458341e-155\n",
              "4      0  7.315231   729.540579  ...       6.834689     0.972789  7.458341e-155\n",
              "\n",
              "[5 rows x 14 columns]"
            ]
          },
          "metadata": {
            "tags": []
          },
          "execution_count": 9
        }
      ]
    },
    {
      "cell_type": "markdown",
      "metadata": {
        "id": "Hs8pVvxpPtin",
        "colab_type": "text"
      },
      "source": [
        "###**1.4 Re-escala dos dados**"
      ]
    },
    {
      "cell_type": "markdown",
      "metadata": {
        "id": "Y3ce85XMPzCj",
        "colab_type": "text"
      },
      "source": [
        "Re-escala usando máximo e mínimo"
      ]
    },
    {
      "cell_type": "code",
      "metadata": {
        "id": "leSYZrKpP2_5",
        "colab_type": "code",
        "colab": {}
      },
      "source": [
        "#deixa todos os atributos na faixa de valores entre 0 e 1\n",
        "dados = (dados - dados.min())/(dados.max()-dados.min())"
      ],
      "execution_count": 10,
      "outputs": []
    },
    {
      "cell_type": "markdown",
      "metadata": {
        "id": "BJ5niadMQR7z",
        "colab_type": "text"
      },
      "source": [
        "###**1.5 Organizando dados para modelagem**"
      ]
    },
    {
      "cell_type": "markdown",
      "metadata": {
        "id": "CO4hIZ8cQYus",
        "colab_type": "text"
      },
      "source": [
        "**Dividir os dados em atributos descritores e atributos de classe (target)**"
      ]
    },
    {
      "cell_type": "code",
      "metadata": {
        "id": "5By-DRDgQgDf",
        "colab_type": "code",
        "colab": {
          "base_uri": "https://localhost:8080/",
          "height": 221
        },
        "outputId": "066c5b37-aa5c-47f2-c092-113cdbc3206d"
      },
      "source": [
        "X = dados.iloc[:,1:]\n",
        "X.head()"
      ],
      "execution_count": 11,
      "outputs": [
        {
          "output_type": "execute_result",
          "data": {
            "text/html": [
              "<div>\n",
              "<style scoped>\n",
              "    .dataframe tbody tr th:only-of-type {\n",
              "        vertical-align: middle;\n",
              "    }\n",
              "\n",
              "    .dataframe tbody tr th {\n",
              "        vertical-align: top;\n",
              "    }\n",
              "\n",
              "    .dataframe thead th {\n",
              "        text-align: right;\n",
              "    }\n",
              "</style>\n",
              "<table border=\"1\" class=\"dataframe\">\n",
              "  <thead>\n",
              "    <tr style=\"text-align: right;\">\n",
              "      <th></th>\n",
              "      <th>Mean</th>\n",
              "      <th>Variance</th>\n",
              "      <th>Standard Deviation</th>\n",
              "      <th>Entropy</th>\n",
              "      <th>Skewness</th>\n",
              "      <th>Kurtosis</th>\n",
              "      <th>Contrast</th>\n",
              "      <th>Energy</th>\n",
              "      <th>ASM</th>\n",
              "      <th>Homogeneity</th>\n",
              "      <th>Dissimilarity</th>\n",
              "      <th>Correlation</th>\n",
              "      <th>Coarseness</th>\n",
              "    </tr>\n",
              "  </thead>\n",
              "  <tbody>\n",
              "    <tr>\n",
              "      <th>0</th>\n",
              "      <td>0.194705</td>\n",
              "      <td>0.212023</td>\n",
              "      <td>0.443074</td>\n",
              "      <td>0.274801</td>\n",
              "      <td>0.068211</td>\n",
              "      <td>0.010937</td>\n",
              "      <td>0.028236</td>\n",
              "      <td>0.475410</td>\n",
              "      <td>0.246092</td>\n",
              "      <td>0.603108</td>\n",
              "      <td>0.139694</td>\n",
              "      <td>0.981764</td>\n",
              "      <td>0.0</td>\n",
              "    </tr>\n",
              "    <tr>\n",
              "      <th>1</th>\n",
              "      <td>0.261489</td>\n",
              "      <td>0.276124</td>\n",
              "      <td>0.510114</td>\n",
              "      <td>0.674843</td>\n",
              "      <td>0.052278</td>\n",
              "      <td>0.007693</td>\n",
              "      <td>0.017951</td>\n",
              "      <td>0.797096</td>\n",
              "      <td>0.648383</td>\n",
              "      <td>0.773800</td>\n",
              "      <td>0.093527</td>\n",
              "      <td>0.997417</td>\n",
              "      <td>0.0</td>\n",
              "    </tr>\n",
              "    <tr>\n",
              "      <th>2</th>\n",
              "      <td>0.219003</td>\n",
              "      <td>0.392326</td>\n",
              "      <td>0.614200</td>\n",
              "      <td>0.001487</td>\n",
              "      <td>0.090618</td>\n",
              "      <td>0.016478</td>\n",
              "      <td>0.023280</td>\n",
              "      <td>0.012719</td>\n",
              "      <td>0.001173</td>\n",
              "      <td>0.230760</td>\n",
              "      <td>0.195261</td>\n",
              "      <td>0.972855</td>\n",
              "      <td>0.0</td>\n",
              "    </tr>\n",
              "    <tr>\n",
              "      <th>3</th>\n",
              "      <td>0.177300</td>\n",
              "      <td>0.329007</td>\n",
              "      <td>0.559750</td>\n",
              "      <td>0.001513</td>\n",
              "      <td>0.108202</td>\n",
              "      <td>0.021559</td>\n",
              "      <td>0.043805</td>\n",
              "      <td>0.012908</td>\n",
              "      <td>0.001192</td>\n",
              "      <td>0.196137</td>\n",
              "      <td>0.258588</td>\n",
              "      <td>0.941475</td>\n",
              "      <td>0.0</td>\n",
              "    </tr>\n",
              "    <tr>\n",
              "      <th>4</th>\n",
              "      <td>0.218223</td>\n",
              "      <td>0.249840</td>\n",
              "      <td>0.483677</td>\n",
              "      <td>0.370574</td>\n",
              "      <td>0.068403</td>\n",
              "      <td>0.011067</td>\n",
              "      <td>0.050836</td>\n",
              "      <td>0.564860</td>\n",
              "      <td>0.338854</td>\n",
              "      <td>0.560862</td>\n",
              "      <td>0.226679</td>\n",
              "      <td>0.960995</td>\n",
              "      <td>0.0</td>\n",
              "    </tr>\n",
              "  </tbody>\n",
              "</table>\n",
              "</div>"
            ],
            "text/plain": [
              "       Mean  Variance  ...  Correlation  Coarseness\n",
              "0  0.194705  0.212023  ...     0.981764         0.0\n",
              "1  0.261489  0.276124  ...     0.997417         0.0\n",
              "2  0.219003  0.392326  ...     0.972855         0.0\n",
              "3  0.177300  0.329007  ...     0.941475         0.0\n",
              "4  0.218223  0.249840  ...     0.960995         0.0\n",
              "\n",
              "[5 rows x 13 columns]"
            ]
          },
          "metadata": {
            "tags": []
          },
          "execution_count": 11
        }
      ]
    },
    {
      "cell_type": "code",
      "metadata": {
        "id": "mnvDdm4QRNG2",
        "colab_type": "code",
        "colab": {
          "base_uri": "https://localhost:8080/",
          "height": 119
        },
        "outputId": "1944ad3a-5653-4109-a221-5e57b5dc3f82"
      },
      "source": [
        "y = dados.Class\n",
        "y.head()"
      ],
      "execution_count": 12,
      "outputs": [
        {
          "output_type": "execute_result",
          "data": {
            "text/plain": [
              "0    0.0\n",
              "1    0.0\n",
              "2    1.0\n",
              "3    1.0\n",
              "4    0.0\n",
              "Name: Class, dtype: float64"
            ]
          },
          "metadata": {
            "tags": []
          },
          "execution_count": 12
        }
      ]
    },
    {
      "cell_type": "markdown",
      "metadata": {
        "id": "_fxuQvImRfOp",
        "colab_type": "text"
      },
      "source": [
        "**Dividir os dados em treino e teste**"
      ]
    },
    {
      "cell_type": "code",
      "metadata": {
        "id": "5Z3f_DH8Rj9N",
        "colab_type": "code",
        "colab": {}
      },
      "source": [
        "from sklearn.model_selection import train_test_split"
      ],
      "execution_count": 13,
      "outputs": []
    },
    {
      "cell_type": "markdown",
      "metadata": {
        "id": "ESl20Bc8S2-5",
        "colab_type": "text"
      },
      "source": [
        "\n",
        "\n",
        "*   Divide a matriz de dados em subconjuntos aleatórios de treino e teste\n",
        "*   test_size: percentual do subconjunto para teste\n",
        "*   random_state: define a semente para a aleatoriedade (se não definido, semente aleatório) - cada vez que se roda o teste será dividido em subconjuntos diferentes\n",
        "*   List item\n",
        "\n",
        "\n",
        "\n",
        "\n"
      ]
    },
    {
      "cell_type": "code",
      "metadata": {
        "id": "2ABz1fPQT4Ib",
        "colab_type": "code",
        "colab": {}
      },
      "source": [
        "X_train, X_test, y_train, y_test = train_test_split(X, y, test_size=0.2)#random_state=42"
      ],
      "execution_count": 14,
      "outputs": []
    },
    {
      "cell_type": "code",
      "metadata": {
        "id": "pkqlnp90UQhI",
        "colab_type": "code",
        "colab": {
          "base_uri": "https://localhost:8080/",
          "height": 221
        },
        "outputId": "cf6f1dae-3d6c-49db-d10b-50252a4108db"
      },
      "source": [
        "X_train.head()"
      ],
      "execution_count": 15,
      "outputs": [
        {
          "output_type": "execute_result",
          "data": {
            "text/html": [
              "<div>\n",
              "<style scoped>\n",
              "    .dataframe tbody tr th:only-of-type {\n",
              "        vertical-align: middle;\n",
              "    }\n",
              "\n",
              "    .dataframe tbody tr th {\n",
              "        vertical-align: top;\n",
              "    }\n",
              "\n",
              "    .dataframe thead th {\n",
              "        text-align: right;\n",
              "    }\n",
              "</style>\n",
              "<table border=\"1\" class=\"dataframe\">\n",
              "  <thead>\n",
              "    <tr style=\"text-align: right;\">\n",
              "      <th></th>\n",
              "      <th>Mean</th>\n",
              "      <th>Variance</th>\n",
              "      <th>Standard Deviation</th>\n",
              "      <th>Entropy</th>\n",
              "      <th>Skewness</th>\n",
              "      <th>Kurtosis</th>\n",
              "      <th>Contrast</th>\n",
              "      <th>Energy</th>\n",
              "      <th>ASM</th>\n",
              "      <th>Homogeneity</th>\n",
              "      <th>Dissimilarity</th>\n",
              "      <th>Correlation</th>\n",
              "      <th>Coarseness</th>\n",
              "    </tr>\n",
              "  </thead>\n",
              "  <tbody>\n",
              "    <tr>\n",
              "      <th>3564</th>\n",
              "      <td>0.217502</td>\n",
              "      <td>0.237466</td>\n",
              "      <td>0.470750</td>\n",
              "      <td>0.003741</td>\n",
              "      <td>0.077852</td>\n",
              "      <td>0.014257</td>\n",
              "      <td>0.021621</td>\n",
              "      <td>0.027839</td>\n",
              "      <td>0.002954</td>\n",
              "      <td>0.371252</td>\n",
              "      <td>0.156261</td>\n",
              "      <td>0.984170</td>\n",
              "      <td>0.650965</td>\n",
              "    </tr>\n",
              "    <tr>\n",
              "      <th>1168</th>\n",
              "      <td>0.431522</td>\n",
              "      <td>0.225826</td>\n",
              "      <td>0.458282</td>\n",
              "      <td>0.319021</td>\n",
              "      <td>0.008940</td>\n",
              "      <td>0.000968</td>\n",
              "      <td>0.017027</td>\n",
              "      <td>0.517723</td>\n",
              "      <td>0.288138</td>\n",
              "      <td>0.674675</td>\n",
              "      <td>0.087844</td>\n",
              "      <td>0.961773</td>\n",
              "      <td>0.000000</td>\n",
              "    </tr>\n",
              "    <tr>\n",
              "      <th>3006</th>\n",
              "      <td>0.293351</td>\n",
              "      <td>0.250921</td>\n",
              "      <td>0.484790</td>\n",
              "      <td>0.249822</td>\n",
              "      <td>0.037109</td>\n",
              "      <td>0.004746</td>\n",
              "      <td>0.057352</td>\n",
              "      <td>0.449495</td>\n",
              "      <td>0.221966</td>\n",
              "      <td>0.634205</td>\n",
              "      <td>0.175236</td>\n",
              "      <td>0.906991</td>\n",
              "      <td>0.000000</td>\n",
              "    </tr>\n",
              "    <tr>\n",
              "      <th>2801</th>\n",
              "      <td>0.134804</td>\n",
              "      <td>0.245166</td>\n",
              "      <td>0.478833</td>\n",
              "      <td>0.004775</td>\n",
              "      <td>0.128009</td>\n",
              "      <td>0.027792</td>\n",
              "      <td>0.019622</td>\n",
              "      <td>0.033861</td>\n",
              "      <td>0.003780</td>\n",
              "      <td>0.208587</td>\n",
              "      <td>0.187506</td>\n",
              "      <td>0.977603</td>\n",
              "      <td>0.000000</td>\n",
              "    </tr>\n",
              "    <tr>\n",
              "      <th>2584</th>\n",
              "      <td>0.196311</td>\n",
              "      <td>0.356235</td>\n",
              "      <td>0.583753</td>\n",
              "      <td>0.001493</td>\n",
              "      <td>0.100437</td>\n",
              "      <td>0.019482</td>\n",
              "      <td>0.030904</td>\n",
              "      <td>0.012756</td>\n",
              "      <td>0.001177</td>\n",
              "      <td>0.257361</td>\n",
              "      <td>0.211683</td>\n",
              "      <td>0.951268</td>\n",
              "      <td>0.000000</td>\n",
              "    </tr>\n",
              "  </tbody>\n",
              "</table>\n",
              "</div>"
            ],
            "text/plain": [
              "          Mean  Variance  ...  Correlation  Coarseness\n",
              "3564  0.217502  0.237466  ...     0.984170    0.650965\n",
              "1168  0.431522  0.225826  ...     0.961773    0.000000\n",
              "3006  0.293351  0.250921  ...     0.906991    0.000000\n",
              "2801  0.134804  0.245166  ...     0.977603    0.000000\n",
              "2584  0.196311  0.356235  ...     0.951268    0.000000\n",
              "\n",
              "[5 rows x 13 columns]"
            ]
          },
          "metadata": {
            "tags": []
          },
          "execution_count": 15
        }
      ]
    },
    {
      "cell_type": "code",
      "metadata": {
        "id": "QHf-V5urUg6T",
        "colab_type": "code",
        "colab": {
          "base_uri": "https://localhost:8080/",
          "height": 119
        },
        "outputId": "9af6a7a6-db1d-4f7d-e064-6021b46c79aa"
      },
      "source": [
        "y_train.head()"
      ],
      "execution_count": 16,
      "outputs": [
        {
          "output_type": "execute_result",
          "data": {
            "text/plain": [
              "3564    1.0\n",
              "1168    0.0\n",
              "3006    0.0\n",
              "2801    1.0\n",
              "2584    1.0\n",
              "Name: Class, dtype: float64"
            ]
          },
          "metadata": {
            "tags": []
          },
          "execution_count": 16
        }
      ]
    },
    {
      "cell_type": "markdown",
      "metadata": {
        "id": "tjISdUmAUkse",
        "colab_type": "text"
      },
      "source": [
        "##**2. Árvore de Decisão**"
      ]
    },
    {
      "cell_type": "code",
      "metadata": {
        "id": "OLVFjHReVRrd",
        "colab_type": "code",
        "colab": {}
      },
      "source": [
        "from sklearn.tree import DecisionTreeClassifier"
      ],
      "execution_count": 17,
      "outputs": []
    },
    {
      "cell_type": "code",
      "metadata": {
        "id": "IG3xlQmCVXpp",
        "colab_type": "code",
        "colab": {}
      },
      "source": [
        "#definindo modelo | não tem max_depth\n",
        "classificador = DecisionTreeClassifier()"
      ],
      "execution_count": 18,
      "outputs": []
    },
    {
      "cell_type": "code",
      "metadata": {
        "id": "BWXpQfd3VfIC",
        "colab_type": "code",
        "colab": {
          "base_uri": "https://localhost:8080/",
          "height": 119
        },
        "outputId": "fd86fabc-2bc7-4c19-ab7d-6e7c665df03a"
      },
      "source": [
        "#treinando o modelo com a função fit\n",
        "classificador.fit(X_train,y_train)"
      ],
      "execution_count": 19,
      "outputs": [
        {
          "output_type": "execute_result",
          "data": {
            "text/plain": [
              "DecisionTreeClassifier(ccp_alpha=0.0, class_weight=None, criterion='gini',\n",
              "                       max_depth=None, max_features=None, max_leaf_nodes=None,\n",
              "                       min_impurity_decrease=0.0, min_impurity_split=None,\n",
              "                       min_samples_leaf=1, min_samples_split=2,\n",
              "                       min_weight_fraction_leaf=0.0, presort='deprecated',\n",
              "                       random_state=None, splitter='best')"
            ]
          },
          "metadata": {
            "tags": []
          },
          "execution_count": 19
        }
      ]
    },
    {
      "cell_type": "code",
      "metadata": {
        "id": "QhtM9lNxWDcX",
        "colab_type": "code",
        "colab": {}
      },
      "source": [
        "from sklearn.tree import plot_tree\n",
        "import matplotlib.pyplot as plt"
      ],
      "execution_count": 20,
      "outputs": []
    },
    {
      "cell_type": "code",
      "metadata": {
        "id": "WAOBnecRWW2U",
        "colab_type": "code",
        "colab": {}
      },
      "source": [
        "# mudando o tamanho da figura\n",
        "plt.rcParams[\"figure.figsize\"] = (30,20)"
      ],
      "execution_count": 21,
      "outputs": []
    },
    {
      "cell_type": "code",
      "metadata": {
        "id": "2_sT85LBWiT9",
        "colab_type": "code",
        "colab": {
          "base_uri": "https://localhost:8080/",
          "height": 806
        },
        "outputId": "29f5e953-8160-42d3-e084-3e357333dfe8"
      },
      "source": [
        "#plotagem sem o diagnóstico\n",
        "plot_tree(classificador,feature_names=dados.columns[1:])\n",
        "plt.show()"
      ],
      "execution_count": 22,
      "outputs": [
        {
          "output_type": "display_data",
          "data": {
            "image/png": "[encoded data removed]",
            "text/plain": [
              "<Figure size 2160x1440 with 1 Axes>"
            ]
          },
          "metadata": {
            "tags": [],
            "needs_background": "light"
          }
        }
      ]
    },
    {
      "cell_type": "code",
      "metadata": {
        "id": "rJ4904yIZ8Er",
        "colab_type": "code",
        "colab": {}
      },
      "source": [
        "#realizando a classificação\n",
        "classificacao = classificador.predict(X_test)\n",
        "#classificacao"
      ],
      "execution_count": 23,
      "outputs": []
    },
    {
      "cell_type": "code",
      "metadata": {
        "id": "J792iWpaazdp",
        "colab_type": "code",
        "colab": {}
      },
      "source": [
        "#for i in range(len(y_test)):\n",
        "#  print(y_test.iloc[i], '\\t', classificacao[i])"
      ],
      "execution_count": 51,
      "outputs": []
    },
    {
      "cell_type": "markdown",
      "metadata": {
        "id": "sr-z4Xq4iqeo",
        "colab_type": "text"
      },
      "source": [
        "##**3. Random Forest**"
      ]
    },
    {
      "cell_type": "code",
      "metadata": {
        "id": "2eD9DdWOjDBV",
        "colab_type": "code",
        "colab": {
          "base_uri": "https://localhost:8080/",
          "height": 153
        },
        "outputId": "553ee22a-384c-4996-b4e2-67fd8ec10086"
      },
      "source": [
        "#definindo random forest\n",
        "from sklearn.ensemble import RandomForestClassifier\n",
        "floresta = RandomForestClassifier(n_estimators=100)\n",
        "floresta.fit(X_train, y_train)"
      ],
      "execution_count": 53,
      "outputs": [
        {
          "output_type": "execute_result",
          "data": {
            "text/plain": [
              "RandomForestClassifier(bootstrap=True, ccp_alpha=0.0, class_weight=None,\n",
              "                       criterion='gini', max_depth=None, max_features='auto',\n",
              "                       max_leaf_nodes=None, max_samples=None,\n",
              "                       min_impurity_decrease=0.0, min_impurity_split=None,\n",
              "                       min_samples_leaf=1, min_samples_split=2,\n",
              "                       min_weight_fraction_leaf=0.0, n_estimators=100,\n",
              "                       n_jobs=None, oob_score=False, random_state=None,\n",
              "                       verbose=0, warm_start=False)"
            ]
          },
          "metadata": {
            "tags": []
          },
          "execution_count": 53
        }
      ]
    },
    {
      "cell_type": "code",
      "metadata": {
        "id": "mrn1NAHQr5QM",
        "colab_type": "code",
        "colab": {}
      },
      "source": [
        "#realizando a classificação\n",
        "classificacaoFloresta = floresta.predict(X_test)\n",
        "#classificacaoFloresta"
      ],
      "execution_count": 54,
      "outputs": []
    },
    {
      "cell_type": "markdown",
      "metadata": {
        "id": "uhmEidu5v-p_",
        "colab_type": "text"
      },
      "source": [
        "##**4. Avaliando os Modelos**"
      ]
    },
    {
      "cell_type": "markdown",
      "metadata": {
        "id": "KqKjgUldu1jP",
        "colab_type": "text"
      },
      "source": [
        "###**Árvore de Decisão X Random Forest**"
      ]
    },
    {
      "cell_type": "markdown",
      "metadata": {
        "id": "gip-ad28u42r",
        "colab_type": "text"
      },
      "source": [
        "Comparando os modelos de aprendizado de máquina por meio de validação cruzada."
      ]
    },
    {
      "cell_type": "code",
      "metadata": {
        "id": "KHhdhTXFu4Rg",
        "colab_type": "code",
        "colab": {
          "base_uri": "https://localhost:8080/",
          "height": 34
        },
        "outputId": "994d7a2b-1a3b-49db-c1ab-80837b116913"
      },
      "source": [
        "#calculando os scores | retorna (acurácia média, desvio padrão)\n",
        "scores = cross_val_score(classificador,X,y,cv=10)\n",
        "round(scores.mean(),3),round(scores.std(),3)"
      ],
      "execution_count": 55,
      "outputs": [
        {
          "output_type": "execute_result",
          "data": {
            "text/plain": [
              "(0.936, 0.146)"
            ]
          },
          "metadata": {
            "tags": []
          },
          "execution_count": 55
        }
      ]
    },
    {
      "cell_type": "code",
      "metadata": {
        "id": "T-ksbMp1vBqj",
        "colab_type": "code",
        "colab": {
          "base_uri": "https://localhost:8080/",
          "height": 34
        },
        "outputId": "2b314f52-aafc-41ae-a4dd-7ddd075de8f2"
      },
      "source": [
        "#calculando os scores | retorna (acurácia média, desvio padrão)\n",
        "scores = cross_val_score(floresta,X,y,cv=10)\n",
        "round(scores.mean(),3),round(scores.std(),3)"
      ],
      "execution_count": 57,
      "outputs": [
        {
          "output_type": "execute_result",
          "data": {
            "text/plain": [
              "(0.951, 0.11)"
            ]
          },
          "metadata": {
            "tags": []
          },
          "execution_count": 57
        }
      ]
    },
    {
      "cell_type": "markdown",
      "metadata": {
        "id": "yjyD4oaVwR66",
        "colab_type": "text"
      },
      "source": [
        "Comparando ambos os modelos é possível perceber que o Random Forest possuí uma acurácia média superior à Árvore de Decisão, possuíndo portanto uma melhor correlação entre os dados de treino e dados de teste."
      ]
    }
  ]
}